{
 "cells": [
  {
   "cell_type": "code",
   "execution_count": 5,
   "metadata": {
    "collapsed": false,
    "slideshow": {
     "slide_type": "slide"
    }
   },
   "outputs": [
    {
     "name": "stderr",
     "output_type": "stream",
     "text": [
      "/Applications/anaconda/lib/python3.6/site-packages/sklearn/cross_validation.py:44: DeprecationWarning: This module was deprecated in version 0.18 in favor of the model_selection module into which all the refactored classes and functions are moved. Also note that the interface of the new CV iterators are different from that of this module. This module will be removed in 0.20.\n",
      "  \"This module will be removed in 0.20.\", DeprecationWarning)\n"
     ]
    }
   ],
   "source": [
    "# Importing all necessary libraries\n",
    "import tensorflow as tf\n",
    "import numpy as np\n",
    "import pandas as pd\n",
    "from sklearn import datasets\n",
    "from sklearn.model_selection import train_test_split\n",
    "from sklearn.metrics import mean_absolute_error\n",
    "from xgboost import XGBRegressor"
   ]
  },
  {
   "cell_type": "code",
   "execution_count": 6,
   "metadata": {
    "collapsed": true,
    "slideshow": {
     "slide_type": "slide"
    }
   },
   "outputs": [],
   "source": [
    "# Choosing my features to be apart of my model\n",
    "features = [\n",
    "    'station_max_temp_c',\n",
    "    'weekofyear',\n",
    "    'station_min_temp_c',\n",
    "    'station_avg_temp_c',\n",
    "    'station_precip_mm',\n",
    "    'station_diur_temp_rng_c',\n",
    "    'precipitation_amt_mm',\n",
    "    'reanalysis_sat_precip_amt_mm',\n",
    "    'reanalysis_dew_point_temp_k',\n",
    "    'reanalysis_air_temp_k',\n",
    "    'reanalysis_relative_humidity_percent',\n",
    "    'reanalysis_specific_humidity_g_per_kg',\n",
    "    'reanalysis_precip_amt_kg_per_m2',\n",
    "    'reanalysis_max_air_temp_k',\n",
    "    'reanalysis_min_air_temp_k',\n",
    "    'reanalysis_avg_temp_k',\n",
    "    'reanalysis_tdtr_k',\n",
    "    'ndvi_se',\n",
    "    'ndvi_sw',\n",
    "    'ndvi_ne',\n",
    "    'ndvi_nw'\n",
    "]"
   ]
  },
  {
   "cell_type": "code",
   "execution_count": 7,
   "metadata": {
    "collapsed": true,
    "slideshow": {
     "slide_type": "slide"
    }
   },
   "outputs": [],
   "source": [
    "# Reading in the data\n",
    "x_train = pd.read_csv('./dengue_features_train.csv', index_col=[0, 1])\n",
    "y_train = pd.read_csv('./dengue_labels_train.csv', index_col=[0, 1])\n",
    "x_test = pd.read_csv('./dengue_features_test.csv', index_col=[0, 1])"
   ]
  },
  {
   "cell_type": "code",
   "execution_count": 8,
   "metadata": {
    "collapsed": false,
    "slideshow": {
     "slide_type": "slide"
    }
   },
   "outputs": [],
   "source": [
    "# San Juan Baseline\n",
    "x_train_sj = x_train.loc['sj']\n",
    "x_train_sj = x_train_sj[features]\n",
    "\n",
    "y_train_sj = y_train.loc['sj']\n",
    "y_train_sj = y_train_sj['total_cases']\n",
    "\n",
    "x_train_sj.fillna(method='ffill', inplace=True)\n",
    "\n",
    "# IQ Baseline\n",
    "x_train_iq = x_train.loc['iq']\n",
    "x_train_iq = x_train_iq[features]\n",
    "\n",
    "y_train_iq = y_train.loc['iq']\n",
    "y_train_iq = y_train_iq['total_cases']\n",
    "\n",
    "x_train_iq.fillna(method='ffill', inplace=True)"
   ]
  },
  {
   "cell_type": "code",
   "execution_count": 9,
   "metadata": {
    "collapsed": false,
    "slideshow": {
     "slide_type": "slide"
    }
   },
   "outputs": [
    {
     "data": {
      "text/plain": [
       "XGBRegressor(base_score=0.5, colsample_bylevel=1, colsample_bytree=1, gamma=0,\n",
       "       learning_rate=0.1, max_delta_step=0, max_depth=3,\n",
       "       min_child_weight=1, missing=None, n_estimators=100, nthread=-1,\n",
       "       objective='reg:linear', reg_alpha=0, reg_lambda=1,\n",
       "       scale_pos_weight=1, seed=0, silent=True, subsample=1)"
      ]
     },
     "execution_count": 9,
     "metadata": {},
     "output_type": "execute_result"
    }
   ],
   "source": [
    "# Set up models and train\n",
    "model_sj = XGBRegressor()\n",
    "model_iq = XGBRegressor()\n",
    "\n",
    "model_sj.fit(x_train_sj, y_train_sj)\n",
    "model_iq.fit(x_train_iq, y_train_iq)"
   ]
  },
  {
   "cell_type": "code",
   "execution_count": 10,
   "metadata": {
    "collapsed": true,
    "slideshow": {
     "slide_type": "slide"
    }
   },
   "outputs": [],
   "source": [
    "# Set up test variables for both SJ and IQ to run against the trained-model\n",
    "x_test_sj = x_test.loc['sj']\n",
    "x_test_sj = x_test_sj[features]\n",
    "\n",
    "x_test_iq = x_test.loc['iq']\n",
    "x_test_iq = x_test_iq[features]\n",
    "\n",
    "x_test_sj.fillna(method='ffill', inplace=True)\n",
    "x_test_iq.fillna(method='ffill', inplace=True)"
   ]
  },
  {
   "cell_type": "code",
   "execution_count": 11,
   "metadata": {
    "collapsed": true,
    "slideshow": {
     "slide_type": "slide"
    }
   },
   "outputs": [],
   "source": [
    "# Run the test set against our model\n",
    "prediction_sj = list(model_sj.predict(x_test_sj))\n",
    "prediction_sj = np.rint(prediction_sj).astype(int)\n",
    "# Make all negative values 0, bc there can be no negative number of cases\n",
    "prediction_sj = np.clip(prediction_sj, 0, 800)\n",
    "\n",
    "prediction_iq = list(model_iq.predict(x_test_iq))\n",
    "prediction_iq = np.rint(prediction_iq).astype(int)\n",
    "prediction_iq = np.clip(prediction_iq, 0, 800)\n"
   ]
  },
  {
   "cell_type": "code",
   "execution_count": 12,
   "metadata": {
    "collapsed": false,
    "slideshow": {
     "slide_type": "slide"
    }
   },
   "outputs": [
    {
     "data": {
      "text/plain": [
       "array([  7,   5,  28,  28,  13,   2,   1,  36,  20,  15,  10,  21,  31,\n",
       "        26,  33,  47,  12,  45, 152,  57,  55,  33,  43,  59,  49,  27,\n",
       "        47,  37,  40,  34,  51,  44,  36,  23,  23,  23,  14,  32,  27,\n",
       "        33,  16,  17,  20,  16,  13,   7,   4,   4,  15,   7,   8,   7,\n",
       "        13,   6,  10,  11,  13,  15,  11,   7,  23,  25,  20,  37,  46,\n",
       "        39,  52,  40,  38,  83,  37,  48,  38,  56,  92,  83,  54,  37,\n",
       "        46,  50,  15,  55,  29,  28,  22,  33,  24,  24,  31,  33,  33,\n",
       "        30,  29,  22,  14,  25,  23,  27,   4,  17,   9,   8,   5,  12,\n",
       "         2,   9,   6,  22,  15,  92,  54,  31,  30,  23,  30,  50,  44,\n",
       "        46,  25, 110,  65, 121, 125, 118,  83,  46,  27,  37, 118,  25,\n",
       "        43,  52,  55,  35,  28,  26,  30,  23,  21,  21,  17,  30,  22,\n",
       "        17,  24,  22,  10,  11,  15,   8,   6,  10,  10,  18,  18,  13,\n",
       "         7,   8,  10,   9,  11,  10,   9, 107,  86,  44,  38,  77,  17,\n",
       "       101,  42, 159,  60, 144,  48,  33,  37,  32,  62,  44,  49,  42,\n",
       "        29,  33,  35,  32,  38,  25,  22,  48,  27,  34,  29,  19,  21,\n",
       "        24,  15,  16,  13,  13,  13,  11,   9,   7,  14,  12,  11,   8,\n",
       "         6,  13,  14,  11,   7,  10,   6,  26,  32,   8,  27,  18,  24,\n",
       "        55,  19,  28,  41,  55,  25,  37,  97,  85,  55,  61,  53,  60,\n",
       "        48,  65,  45,  73,  39,  27,  37,  24,  16,  33,  26,  23,  15,\n",
       "        38,  13,  17,  12,  13,  12,  12,   8,   9,   5,  10,   9,  10,\n",
       "         5,   2,   7,   3,   2,   4,   6,   4,   0,   5,   5,   0,   6,\n",
       "         0,   5,   6,  17,  14,   9,  11,  14,   9,   8,   6,   8,   7,\n",
       "         1,  21,  14,  12,  11,  14,  10,  14,  15,  14,   8,   5,   8,\n",
       "         8,   6,   7,   8,   6,   8,   3,   5,   6,   4,   4,   0,   2,\n",
       "         9,   4,   1,   4,   2,   3,   4,   3,   2,   2,   3,   5,   8,\n",
       "         6,   5,  10,   5,  12,   8,  13,  14,  10,   8,   9,  36,  21,\n",
       "         6,   8,  15,  14,   6,  11,   8,  11,  15,   7,   8,   2,   4,\n",
       "         8,   6,   4,  12,   8,   8,   2,   5,   4,   2,   4,   2,   3,\n",
       "         0,   3,   6,   6,   3,   2,   2,   5,   4,   5,   3,   3,   2,\n",
       "        16,   9,   9,  12,  13,  11,  10,  26,  13,   8,   5,  14,   5,\n",
       "         7,  10,   9,  15,  22,  10,  11,   9,  14,   8,   6,   8,   6,\n",
       "         6,   7,   5,   8,   1,  10,   7,   4,   6,   4,   2,   3,   2])"
      ]
     },
     "execution_count": 12,
     "metadata": {},
     "output_type": "execute_result"
    }
   ],
   "source": [
    "# Concatenate the two predictions\n",
    "predictions = np.concatenate([prediction_sj, prediction_iq])\n",
    "predictions"
   ]
  },
  {
   "cell_type": "code",
   "execution_count": 13,
   "metadata": {
    "collapsed": true,
    "slideshow": {
     "slide_type": "slide"
    }
   },
   "outputs": [],
   "source": [
    "# Write the data to the submission file\n",
    "submission = pd.read_csv('./submission_format.csv', index_col=[0,1])\n",
    "submission.total_cases = predictions\n",
    "submission.to_csv('./submissionFile.csv')"
   ]
  },
  {
   "cell_type": "code",
   "execution_count": 21,
   "metadata": {
    "collapsed": false,
    "slideshow": {
     "slide_type": "slide"
    }
   },
   "outputs": [
    {
     "data": {
      "image/png": "[encoded data removed]",
      "text/plain": [
       "<matplotlib.figure.Figure at 0x12600eb70>"
      ]
     },
     "metadata": {},
     "output_type": "display_data"
    }
   ],
   "source": [
    "import matplotlib.pyplot as plt\n",
    "plt.plot(predictions)\n",
    "y_train_values = list(y_train['total_cases'])\n",
    "plt.plot(y_train_values)\n",
    "plt.show()"
   ]
  }
 ],
 "metadata": {
  "celltoolbar": "Slideshow",
  "kernelspec": {
   "display_name": "Python 3",
   "language": "python",
   "name": "python3"
  },
  "language_info": {
   "codemirror_mode": {
    "name": "ipython",
    "version": 3
   },
   "file_extension": ".py",
   "mimetype": "text/x-python",
   "name": "python",
   "nbconvert_exporter": "python",
   "pygments_lexer": "ipython3",
   "version": "3.6.0"
  }
 },
 "nbformat": 4,
 "nbformat_minor": 2
}
